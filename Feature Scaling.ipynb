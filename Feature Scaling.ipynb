{
 "cells": [
  {
   "cell_type": "code",
   "execution_count": 1,
   "id": "79f5b5c7-94c5-43ab-b676-b98dbc3f2558",
   "metadata": {},
   "outputs": [],
   "source": [
    "import numpy as np\n",
    "import pandas as pd\n",
    "import matplotlib.pyplot as plt\n",
    "from sklearn import preprocessing"
   ]
  },
  {
   "cell_type": "code",
   "execution_count": 2,
   "id": "ed8e16ea-7925-419f-9190-7399ca1ae7f2",
   "metadata": {},
   "outputs": [
    {
     "data": {
      "text/html": [
       "<div>\n",
       "<style scoped>\n",
       "    .dataframe tbody tr th:only-of-type {\n",
       "        vertical-align: middle;\n",
       "    }\n",
       "\n",
       "    .dataframe tbody tr th {\n",
       "        vertical-align: top;\n",
       "    }\n",
       "\n",
       "    .dataframe thead th {\n",
       "        text-align: right;\n",
       "    }\n",
       "</style>\n",
       "<table border=\"1\" class=\"dataframe\">\n",
       "  <thead>\n",
       "    <tr style=\"text-align: right;\">\n",
       "      <th></th>\n",
       "      <th>Country</th>\n",
       "      <th>Age</th>\n",
       "      <th>Salary</th>\n",
       "      <th>Purchased</th>\n",
       "    </tr>\n",
       "  </thead>\n",
       "  <tbody>\n",
       "    <tr>\n",
       "      <th>0</th>\n",
       "      <td>France</td>\n",
       "      <td>44.0</td>\n",
       "      <td>72000.0</td>\n",
       "      <td>No</td>\n",
       "    </tr>\n",
       "    <tr>\n",
       "      <th>1</th>\n",
       "      <td>Spain</td>\n",
       "      <td>27.0</td>\n",
       "      <td>48000.0</td>\n",
       "      <td>Yes</td>\n",
       "    </tr>\n",
       "    <tr>\n",
       "      <th>2</th>\n",
       "      <td>Germany</td>\n",
       "      <td>30.0</td>\n",
       "      <td>54000.0</td>\n",
       "      <td>No</td>\n",
       "    </tr>\n",
       "    <tr>\n",
       "      <th>3</th>\n",
       "      <td>Spain</td>\n",
       "      <td>38.0</td>\n",
       "      <td>61000.0</td>\n",
       "      <td>No</td>\n",
       "    </tr>\n",
       "    <tr>\n",
       "      <th>4</th>\n",
       "      <td>Germany</td>\n",
       "      <td>40.0</td>\n",
       "      <td>NaN</td>\n",
       "      <td>Yes</td>\n",
       "    </tr>\n",
       "  </tbody>\n",
       "</table>\n",
       "</div>"
      ],
      "text/plain": [
       "   Country   Age   Salary Purchased\n",
       "0   France  44.0  72000.0        No\n",
       "1    Spain  27.0  48000.0       Yes\n",
       "2  Germany  30.0  54000.0        No\n",
       "3    Spain  38.0  61000.0        No\n",
       "4  Germany  40.0      NaN       Yes"
      ]
     },
     "execution_count": 2,
     "metadata": {},
     "output_type": "execute_result"
    }
   ],
   "source": [
    "data = pd.read_csv('/Users/karan/Desktop/CN AI Projects/Feature Scaling/Data.csv')\n",
    "data.head(5)"
   ]
  },
  {
   "cell_type": "code",
   "execution_count": 3,
   "id": "6a81e802-d3cb-4ea6-b82e-3646847f643d",
   "metadata": {},
   "outputs": [
    {
     "name": "stdout",
     "output_type": "stream",
     "text": [
      "Original Values: \n",
      "     Age   Salary\n",
      "0  44.0  72000.0\n",
      "1  27.0  48000.0\n",
      "2  30.0  54000.0\n",
      "3  38.0  61000.0\n",
      "4  40.0      NaN\n",
      "5  35.0  58000.0\n",
      "6   NaN  52000.0\n",
      "7  48.0  79000.0\n",
      "8  50.0  83000.0\n",
      "9  37.0  67000.0\n"
     ]
    }
   ],
   "source": [
    "x = data.iloc[:,1:3]\n",
    "print('Original Values: \\n',x)"
   ]
  },
  {
   "cell_type": "code",
   "execution_count": 4,
   "id": "8cefee14-34df-4d8a-90b2-d5df98415eef",
   "metadata": {},
   "outputs": [
    {
     "name": "stdout",
     "output_type": "stream",
     "text": [
      "After Min Max:\n",
      " [[0.73913043 0.68571429]\n",
      " [0.         0.        ]\n",
      " [0.13043478 0.17142857]\n",
      " [0.47826087 0.37142857]\n",
      " [0.56521739        nan]\n",
      " [0.34782609 0.28571429]\n",
      " [       nan 0.11428571]\n",
      " [0.91304348 0.88571429]\n",
      " [1.         1.        ]\n",
      " [0.43478261 0.54285714]]\n"
     ]
    }
   ],
   "source": [
    "#Min Max Scaling \n",
    "scaler = preprocessing.MinMaxScaler(feature_range=(0,1))\n",
    "y = scaler.fit_transform(x)\n",
    "print(\"After Min Max:\\n\",y)"
   ]
  },
  {
   "cell_type": "code",
   "execution_count": 5,
   "id": "fdcdd790-f80e-42dd-8b7e-3ac7e3bd70a7",
   "metadata": {},
   "outputs": [
    {
     "name": "stdout",
     "output_type": "stream",
     "text": [
      "After Standardisation:\n",
      " [[ 0.71993143  0.71101276]\n",
      " [-1.62367514 -1.36437583]\n",
      " [-1.21009751 -0.84552869]\n",
      " [-0.10722383 -0.24020701]\n",
      " [ 0.16849459         nan]\n",
      " [-0.52080146 -0.49963059]\n",
      " [        nan -1.01847774]\n",
      " [ 1.27136827  1.31633443]\n",
      " [ 1.54708669  1.66223253]\n",
      " [-0.24508304  0.27864014]]\n"
     ]
    }
   ],
   "source": [
    "#Standardisation\n",
    "stdscaler = preprocessing.StandardScaler()\n",
    "z = stdscaler.fit_transform(x)\n",
    "print(\"After Standardisation:\\n\",z)"
   ]
  },
  {
   "cell_type": "code",
   "execution_count": null,
   "id": "a40d7ce1-efe1-452d-ad84-2c4a448b17df",
   "metadata": {},
   "outputs": [],
   "source": []
  }
 ],
 "metadata": {
  "kernelspec": {
   "display_name": "Python 3",
   "language": "python",
   "name": "python3"
  },
  "language_info": {
   "codemirror_mode": {
    "name": "ipython",
    "version": 3
   },
   "file_extension": ".py",
   "mimetype": "text/x-python",
   "name": "python",
   "nbconvert_exporter": "python",
   "pygments_lexer": "ipython3",
   "version": "3.8.8"
  }
 },
 "nbformat": 4,
 "nbformat_minor": 5
}
